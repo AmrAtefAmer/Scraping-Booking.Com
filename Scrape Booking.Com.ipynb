{
 "cells": [
  {
   "cell_type": "code",
   "execution_count": 1,
   "id": "b04b9051",
   "metadata": {},
   "outputs": [],
   "source": [
    "import keyboard\n",
    "from selenium.webdriver.common.by import By\n",
    "from selenium.webdriver.support import expected_conditions as EC\n",
    "from selenium import webdriver\n",
    "from selenium.webdriver.common.keys import Keys\n",
    "from selenium.webdriver.support.ui import WebDriverWait\n",
    "import pandas as pd\n",
    "import warnings \n",
    "import time\n",
    "import requests\n",
    "warnings.filterwarnings('ignore')"
   ]
  },
  {
   "cell_type": "code",
   "execution_count": 2,
   "id": "c7f614e1",
   "metadata": {},
   "outputs": [],
   "source": [
    "driver = webdriver.Chrome()"
   ]
  },
  {
   "cell_type": "code",
   "execution_count": 3,
   "id": "d768c054",
   "metadata": {},
   "outputs": [],
   "source": [
    "url= f'https://www.booking.com/searchresults.en-gb.html?'#page url\n",
    "driver.get(url)"
   ]
  },
  {
   "cell_type": "code",
   "execution_count": 4,
   "id": "a1223fbe",
   "metadata": {},
   "outputs": [],
   "source": [
    "def GetData():\n",
    "    try:\n",
    "        name = driver.find_element(By.CLASS_NAME,'d2fee87262.pp-header__title').text #Hotel Name\n",
    "    except:\n",
    "        name = \"N/A\"\n",
    "    try:\n",
    "        room_type = driver.find_element(By.CLASS_NAME,'hprt-roomtype-icon-link').text\n",
    "    except:\n",
    "        room_type = \"N/A\"\n",
    "    try:\n",
    "        board_type = driver.find_element(By.XPATH,r'//*[@id=\"hprt-table\"]/tbody/tr[1]/td[4]/div/ul/li[1]/div/div').text\n",
    "    except:\n",
    "        try:\n",
    "            board_type = driver.find_element(By.XPATH,'//*[@id=\"hprt-table\"]/tbody/tr[1]/td[4]/div/div/ul[1]/li[1]/span[2]').text\n",
    "        except:\n",
    "            board_type = \"N/A\"\n",
    "    try:\n",
    "        price = driver.find_element(By.CLASS_NAME,'prco-valign-middle-helper').text\n",
    "    except:\n",
    "        price = \"N/A\"\n",
    "    try:\n",
    "        tax = driver.find_element(By.CLASS_NAME,'prd-taxes-and-fees-under-price').text\n",
    "    except:\n",
    "        tax = \"N/A\"\n",
    "    print(our_hotels_list[i],';',name,';',price,';',tax,';',room_type,';',board_type)"
   ]
  },
  {
   "cell_type": "code",
   "execution_count": 6,
   "id": "50d52775",
   "metadata": {
    "scrolled": true
   },
   "outputs": [
    {
     "name": "stdout",
     "output_type": "stream",
     "text": [
      "Scrape 30 Hotels\n"
     ]
    }
   ],
   "source": [
    "df=pd.read_excel(r'C:\\Users\\Amr Atef\\Desktop\\hotels.xlsx',sheet_name='Sheet1')\n",
    "our_hotels_list = df['name'].to_list()\n",
    "print(\"Scrape\", len(our_hotels_list), \"Hotels\")"
   ]
  },
  {
   "cell_type": "code",
   "execution_count": 7,
   "id": "0016d78d",
   "metadata": {
    "scrolled": false
   },
   "outputs": [
    {
     "name": "stdout",
     "output_type": "stream",
     "text": [
      "Four Seasons Resort Sharm El Sheikh ; Four Seasons Resort Sharm El Sheikh ; US$535 ; +US$154 taxes and charges ; Superior King Room with Palm View ; Fabulous breakfast included\n",
      "Sunrise Montemare Resort - Grand Select  ; Sunrise Montemare Resort -Grand Select ; US$108 ; +US$30 taxes and charges ; Superior Room ; Superb breakfast included\n",
      "Rixos Premium Seagate - Ultra All Inclusive ; Rixos Premium Seagate - Ultra All Inclusive ; US$833 ; +US$241 taxes and charges ; Superior Room Aqua ; All-Inclusive\n",
      "Steigenberger Alcazar ; Steigenberger Alcazar ; US$302 ; +US$92 taxes and charges ; Superior Room Pool View ; Exceptional breakfast included\n",
      "Royal Savoy Sharm El Sheikh ; Royal Savoy Sharm El Sheikh ; US$339 ; +US$107 taxes and charges ; Royal Savoy Suite (Adults Only) ; Very good breakfast included\n",
      "Rixos Sharm El Sheikh Adults Only ; Rixos Sharm El Sheikh - Ultra All Inclusive Adults Only 18 Plus ; US$780 ; +US$226 taxes and charges ; Superior Room ; All-Inclusive\n",
      "Savoy Sharm El Sheikh ; Savoy Sharm El Sheikh ; N/A ; N/A ; N/A ; N/A\n",
      "Baron Resort Sharm El Sheikh ; Baron Resort Sharm El Sheikh ; US$106 ; +US$34 taxes and charges ; Special Offer - Superior Classic Room - Egyptians and Residents Only ; Exceptional breakfast included\n",
      "Coral Sea Sensatori Resort ; Coral Sea Imperial \"Coral Sea Sensatori\" ; US$185 ; +US$51 taxes and charges ; Standard Double Inland View Room ; Fabulous breakfast included\n",
      "Jaz Mirabel Beach Resort  ; Giftun Azur Resort ; US$62 ; +US$20 taxes and charges ; Economy Double Room - Adults Only ; All-Inclusive\n",
      "Hilton Sharks Bay Resort  ; DoubleTree by Hilton Sharks Bay Resort ; US$99 ; +US$29 taxes and charges ; King Room ; Very good breakfast included\n",
      "Reef Oasis Blue Bay Resort & Spa  ; Reef Oasis Blue Bay Resort & Spa ; US$125 ; +US$40 taxes and charges ; Superior Double or Twin Room with Garden View ; All-Inclusive\n"
     ]
    },
    {
     "ename": "NoSuchWindowException",
     "evalue": "Message: no such window: target window already closed\nfrom unknown error: web view not found\n  (Session info: chrome=117.0.5938.89)\nStacktrace:\n\tGetHandleVerifier [0x00007FF7363078A2+54818]\n\t(No symbol) [0x00007FF736276AD2]\n\t(No symbol) [0x00007FF73612DA3B]\n\t(No symbol) [0x00007FF73610DEE8]\n\t(No symbol) [0x00007FF736193237]\n\t(No symbol) [0x00007FF7361A6C6F]\n\t(No symbol) [0x00007FF73618E883]\n\t(No symbol) [0x00007FF736163691]\n\t(No symbol) [0x00007FF7361648D4]\n\tGetHandleVerifier [0x00007FF73666B9A2+3610402]\n\tGetHandleVerifier [0x00007FF7366C1870+3962352]\n\tGetHandleVerifier [0x00007FF7366B9D5F+3930847]\n\tGetHandleVerifier [0x00007FF7363A3656+693206]\n\t(No symbol) [0x00007FF736281638]\n\t(No symbol) [0x00007FF73627D944]\n\t(No symbol) [0x00007FF73627DA72]\n\t(No symbol) [0x00007FF73626E123]\n\tBaseThreadInitThunk [0x00007FFC33757344+20]\n\tRtlUserThreadStart [0x00007FFC341E26B1+33]\n",
     "output_type": "error",
     "traceback": [
      "\u001b[1;31m---------------------------------------------------------------------------\u001b[0m",
      "\u001b[1;31mNoSuchWindowException\u001b[0m                     Traceback (most recent call last)",
      "\u001b[1;32m<ipython-input-7-29d5ec92a2a3>\u001b[0m in \u001b[0;36m<module>\u001b[1;34m\u001b[0m\n\u001b[0;32m     11\u001b[0m     \u001b[0mtime\u001b[0m\u001b[1;33m.\u001b[0m\u001b[0msleep\u001b[0m\u001b[1;33m(\u001b[0m\u001b[1;36m1\u001b[0m\u001b[1;33m)\u001b[0m\u001b[1;33m\u001b[0m\u001b[1;33m\u001b[0m\u001b[0m\n\u001b[0;32m     12\u001b[0m     \u001b[0mdriver\u001b[0m\u001b[1;33m.\u001b[0m\u001b[0mfind_element\u001b[0m\u001b[1;33m(\u001b[0m\u001b[0mBy\u001b[0m\u001b[1;33m.\u001b[0m\u001b[0mCLASS_NAME\u001b[0m\u001b[1;33m,\u001b[0m\u001b[1;34m'a83ed08757.c21c56c305.a4c1805887.f671049264.d2529514af.c082d89982.aa11d0d5cd'\u001b[0m\u001b[1;33m)\u001b[0m\u001b[1;33m.\u001b[0m\u001b[0mclick\u001b[0m\u001b[1;33m(\u001b[0m\u001b[1;33m)\u001b[0m \u001b[1;31m#Search Button\u001b[0m\u001b[1;33m\u001b[0m\u001b[1;33m\u001b[0m\u001b[0m\n\u001b[1;32m---> 13\u001b[1;33m     \u001b[1;32mif\u001b[0m \u001b[0mdriver\u001b[0m\u001b[1;33m.\u001b[0m\u001b[0mfind_element\u001b[0m\u001b[1;33m(\u001b[0m\u001b[0mBy\u001b[0m\u001b[1;33m.\u001b[0m\u001b[0mID\u001b[0m\u001b[1;33m,\u001b[0m\u001b[1;34m'bodyconstraint-inner'\u001b[0m\u001b[1;33m)\u001b[0m\u001b[1;33m.\u001b[0m\u001b[0mtext\u001b[0m \u001b[1;33m==\u001b[0m \u001b[1;34m''\u001b[0m\u001b[1;33m:\u001b[0m\u001b[1;33m\u001b[0m\u001b[1;33m\u001b[0m\u001b[0m\n\u001b[0m\u001b[0;32m     14\u001b[0m         \u001b[0mdriver\u001b[0m\u001b[1;33m.\u001b[0m\u001b[0mfind_element\u001b[0m\u001b[1;33m(\u001b[0m\u001b[0mBy\u001b[0m\u001b[1;33m.\u001b[0m\u001b[0mCLASS_NAME\u001b[0m\u001b[1;33m,\u001b[0m\u001b[1;34m'a83ed08757.f3441ccb97.a9c42d2cff.ec66406250'\u001b[0m\u001b[1;33m)\u001b[0m\u001b[1;33m.\u001b[0m\u001b[0mclick\u001b[0m\u001b[1;33m(\u001b[0m\u001b[1;33m)\u001b[0m\u001b[1;33m\u001b[0m\u001b[1;33m\u001b[0m\u001b[0m\n\u001b[0;32m     15\u001b[0m         \u001b[0mdriver\u001b[0m\u001b[1;33m.\u001b[0m\u001b[0mfind_element\u001b[0m\u001b[1;33m(\u001b[0m\u001b[0mBy\u001b[0m\u001b[1;33m.\u001b[0m\u001b[0mCLASS_NAME\u001b[0m\u001b[1;33m,\u001b[0m\u001b[1;34m'ce45093752'\u001b[0m\u001b[1;33m)\u001b[0m\u001b[1;33m.\u001b[0m\u001b[0msend_keys\u001b[0m\u001b[1;33m(\u001b[0m\u001b[0mour_hotels_list\u001b[0m\u001b[1;33m[\u001b[0m\u001b[0mi\u001b[0m\u001b[1;33m]\u001b[0m\u001b[1;33m)\u001b[0m\u001b[1;33m\u001b[0m\u001b[1;33m\u001b[0m\u001b[0m\n",
      "\u001b[1;32m~\\anaconda3\\lib\\site-packages\\selenium\\webdriver\\remote\\webdriver.py\u001b[0m in \u001b[0;36mfind_element\u001b[1;34m(self, by, value)\u001b[0m\n\u001b[0;32m    736\u001b[0m             \u001b[0mvalue\u001b[0m \u001b[1;33m=\u001b[0m \u001b[1;34mf'[name=\"{value}\"]'\u001b[0m\u001b[1;33m\u001b[0m\u001b[1;33m\u001b[0m\u001b[0m\n\u001b[0;32m    737\u001b[0m \u001b[1;33m\u001b[0m\u001b[0m\n\u001b[1;32m--> 738\u001b[1;33m         \u001b[1;32mreturn\u001b[0m \u001b[0mself\u001b[0m\u001b[1;33m.\u001b[0m\u001b[0mexecute\u001b[0m\u001b[1;33m(\u001b[0m\u001b[0mCommand\u001b[0m\u001b[1;33m.\u001b[0m\u001b[0mFIND_ELEMENT\u001b[0m\u001b[1;33m,\u001b[0m \u001b[1;33m{\u001b[0m\u001b[1;34m\"using\"\u001b[0m\u001b[1;33m:\u001b[0m \u001b[0mby\u001b[0m\u001b[1;33m,\u001b[0m \u001b[1;34m\"value\"\u001b[0m\u001b[1;33m:\u001b[0m \u001b[0mvalue\u001b[0m\u001b[1;33m}\u001b[0m\u001b[1;33m)\u001b[0m\u001b[1;33m[\u001b[0m\u001b[1;34m\"value\"\u001b[0m\u001b[1;33m]\u001b[0m\u001b[1;33m\u001b[0m\u001b[1;33m\u001b[0m\u001b[0m\n\u001b[0m\u001b[0;32m    739\u001b[0m \u001b[1;33m\u001b[0m\u001b[0m\n\u001b[0;32m    740\u001b[0m     \u001b[1;32mdef\u001b[0m \u001b[0mfind_elements\u001b[0m\u001b[1;33m(\u001b[0m\u001b[0mself\u001b[0m\u001b[1;33m,\u001b[0m \u001b[0mby\u001b[0m\u001b[1;33m=\u001b[0m\u001b[0mBy\u001b[0m\u001b[1;33m.\u001b[0m\u001b[0mID\u001b[0m\u001b[1;33m,\u001b[0m \u001b[0mvalue\u001b[0m\u001b[1;33m:\u001b[0m \u001b[0mOptional\u001b[0m\u001b[1;33m[\u001b[0m\u001b[0mstr\u001b[0m\u001b[1;33m]\u001b[0m \u001b[1;33m=\u001b[0m \u001b[1;32mNone\u001b[0m\u001b[1;33m)\u001b[0m \u001b[1;33m->\u001b[0m \u001b[0mList\u001b[0m\u001b[1;33m[\u001b[0m\u001b[0mWebElement\u001b[0m\u001b[1;33m]\u001b[0m\u001b[1;33m:\u001b[0m\u001b[1;33m\u001b[0m\u001b[1;33m\u001b[0m\u001b[0m\n",
      "\u001b[1;32m~\\anaconda3\\lib\\site-packages\\selenium\\webdriver\\remote\\webdriver.py\u001b[0m in \u001b[0;36mexecute\u001b[1;34m(self, driver_command, params)\u001b[0m\n\u001b[0;32m    342\u001b[0m         \u001b[0mresponse\u001b[0m \u001b[1;33m=\u001b[0m \u001b[0mself\u001b[0m\u001b[1;33m.\u001b[0m\u001b[0mcommand_executor\u001b[0m\u001b[1;33m.\u001b[0m\u001b[0mexecute\u001b[0m\u001b[1;33m(\u001b[0m\u001b[0mdriver_command\u001b[0m\u001b[1;33m,\u001b[0m \u001b[0mparams\u001b[0m\u001b[1;33m)\u001b[0m\u001b[1;33m\u001b[0m\u001b[1;33m\u001b[0m\u001b[0m\n\u001b[0;32m    343\u001b[0m         \u001b[1;32mif\u001b[0m \u001b[0mresponse\u001b[0m\u001b[1;33m:\u001b[0m\u001b[1;33m\u001b[0m\u001b[1;33m\u001b[0m\u001b[0m\n\u001b[1;32m--> 344\u001b[1;33m             \u001b[0mself\u001b[0m\u001b[1;33m.\u001b[0m\u001b[0merror_handler\u001b[0m\u001b[1;33m.\u001b[0m\u001b[0mcheck_response\u001b[0m\u001b[1;33m(\u001b[0m\u001b[0mresponse\u001b[0m\u001b[1;33m)\u001b[0m\u001b[1;33m\u001b[0m\u001b[1;33m\u001b[0m\u001b[0m\n\u001b[0m\u001b[0;32m    345\u001b[0m             \u001b[0mresponse\u001b[0m\u001b[1;33m[\u001b[0m\u001b[1;34m\"value\"\u001b[0m\u001b[1;33m]\u001b[0m \u001b[1;33m=\u001b[0m \u001b[0mself\u001b[0m\u001b[1;33m.\u001b[0m\u001b[0m_unwrap_value\u001b[0m\u001b[1;33m(\u001b[0m\u001b[0mresponse\u001b[0m\u001b[1;33m.\u001b[0m\u001b[0mget\u001b[0m\u001b[1;33m(\u001b[0m\u001b[1;34m\"value\"\u001b[0m\u001b[1;33m,\u001b[0m \u001b[1;32mNone\u001b[0m\u001b[1;33m)\u001b[0m\u001b[1;33m)\u001b[0m\u001b[1;33m\u001b[0m\u001b[1;33m\u001b[0m\u001b[0m\n\u001b[0;32m    346\u001b[0m             \u001b[1;32mreturn\u001b[0m \u001b[0mresponse\u001b[0m\u001b[1;33m\u001b[0m\u001b[1;33m\u001b[0m\u001b[0m\n",
      "\u001b[1;32m~\\anaconda3\\lib\\site-packages\\selenium\\webdriver\\remote\\errorhandler.py\u001b[0m in \u001b[0;36mcheck_response\u001b[1;34m(self, response)\u001b[0m\n\u001b[0;32m    227\u001b[0m                 \u001b[0malert_text\u001b[0m \u001b[1;33m=\u001b[0m \u001b[0mvalue\u001b[0m\u001b[1;33m[\u001b[0m\u001b[1;34m\"alert\"\u001b[0m\u001b[1;33m]\u001b[0m\u001b[1;33m.\u001b[0m\u001b[0mget\u001b[0m\u001b[1;33m(\u001b[0m\u001b[1;34m\"text\"\u001b[0m\u001b[1;33m)\u001b[0m\u001b[1;33m\u001b[0m\u001b[1;33m\u001b[0m\u001b[0m\n\u001b[0;32m    228\u001b[0m             \u001b[1;32mraise\u001b[0m \u001b[0mexception_class\u001b[0m\u001b[1;33m(\u001b[0m\u001b[0mmessage\u001b[0m\u001b[1;33m,\u001b[0m \u001b[0mscreen\u001b[0m\u001b[1;33m,\u001b[0m \u001b[0mstacktrace\u001b[0m\u001b[1;33m,\u001b[0m \u001b[0malert_text\u001b[0m\u001b[1;33m)\u001b[0m  \u001b[1;31m# type: ignore[call-arg]  # mypy is not smart enough here\u001b[0m\u001b[1;33m\u001b[0m\u001b[1;33m\u001b[0m\u001b[0m\n\u001b[1;32m--> 229\u001b[1;33m         \u001b[1;32mraise\u001b[0m \u001b[0mexception_class\u001b[0m\u001b[1;33m(\u001b[0m\u001b[0mmessage\u001b[0m\u001b[1;33m,\u001b[0m \u001b[0mscreen\u001b[0m\u001b[1;33m,\u001b[0m \u001b[0mstacktrace\u001b[0m\u001b[1;33m)\u001b[0m\u001b[1;33m\u001b[0m\u001b[1;33m\u001b[0m\u001b[0m\n\u001b[0m",
      "\u001b[1;31mNoSuchWindowException\u001b[0m: Message: no such window: target window already closed\nfrom unknown error: web view not found\n  (Session info: chrome=117.0.5938.89)\nStacktrace:\n\tGetHandleVerifier [0x00007FF7363078A2+54818]\n\t(No symbol) [0x00007FF736276AD2]\n\t(No symbol) [0x00007FF73612DA3B]\n\t(No symbol) [0x00007FF73610DEE8]\n\t(No symbol) [0x00007FF736193237]\n\t(No symbol) [0x00007FF7361A6C6F]\n\t(No symbol) [0x00007FF73618E883]\n\t(No symbol) [0x00007FF736163691]\n\t(No symbol) [0x00007FF7361648D4]\n\tGetHandleVerifier [0x00007FF73666B9A2+3610402]\n\tGetHandleVerifier [0x00007FF7366C1870+3962352]\n\tGetHandleVerifier [0x00007FF7366B9D5F+3930847]\n\tGetHandleVerifier [0x00007FF7363A3656+693206]\n\t(No symbol) [0x00007FF736281638]\n\t(No symbol) [0x00007FF73627D944]\n\t(No symbol) [0x00007FF73627DA72]\n\t(No symbol) [0x00007FF73626E123]\n\tBaseThreadInitThunk [0x00007FFC33757344+20]\n\tRtlUserThreadStart [0x00007FFC341E26B1+33]\n"
     ]
    }
   ],
   "source": [
    "wait = WebDriverWait(driver, 20)\n",
    "i=0\n",
    "while i <= len(our_hotels_list)-1:\n",
    "    if keyboard.is_pressed('q'):\n",
    "        break\n",
    "    p = driver.current_window_handle\n",
    "    hotel_name_field = driver.find_element(By.NAME,'ss')\n",
    "    hotel_name_field.send_keys(Keys.CONTROL+'a')\n",
    "    hotel_name_field.send_keys(Keys.DELETE)\n",
    "    hotel_name_field.send_keys(our_hotels_list[i])\n",
    "    time.sleep(1)\n",
    "    driver.find_element(By.CLASS_NAME,'a83ed08757.c21c56c305.a4c1805887.f671049264.d2529514af.c082d89982.aa11d0d5cd').click() #Search Button\n",
    "    if driver.find_element(By.ID,'bodyconstraint-inner').text == '':\n",
    "        driver.find_element(By.CLASS_NAME,'a83ed08757.f3441ccb97.a9c42d2cff.ec66406250').click()\n",
    "        driver.find_element(By.CLASS_NAME,'ce45093752').send_keys(our_hotels_list[i])\n",
    "        time.sleep(1)\n",
    "        driver.find_element(By.CLASS_NAME,'fc63351294.a822bdf511.d4b6b7a9e7.cfb238afa1.c938084447.f4605622ad.aa11d0d5cd').click()\n",
    "    wait.until(EC.presence_of_element_located((By.CLASS_NAME, 'a4225678b2'))).click()#Click on hotel name\n",
    "    ch = driver.window_handles\n",
    "    for c in ch:\n",
    "        if c != p:\n",
    "            driver.switch_to.window(c)\n",
    "            GetData()\n",
    "    driver.close()\n",
    "    driver.switch_to.window(p)\n",
    "    try:\n",
    "        driver.find_element(By.CLASS_NAME,'a83ed08757.c21c56c305.f38b6daa18.d691166b09.ab98298258.deab83296e.f4552b6561').click()\n",
    "    except:\n",
    "        pass\n",
    "    i+=1"
   ]
  }
 ],
 "metadata": {
  "kernelspec": {
   "display_name": "Python 3",
   "language": "python",
   "name": "python3"
  },
  "language_info": {
   "codemirror_mode": {
    "name": "ipython",
    "version": 3
   },
   "file_extension": ".py",
   "mimetype": "text/x-python",
   "name": "python",
   "nbconvert_exporter": "python",
   "pygments_lexer": "ipython3",
   "version": "3.8.8"
  }
 },
 "nbformat": 4,
 "nbformat_minor": 5
}
