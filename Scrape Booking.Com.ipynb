{
 "cells": [
  {
   "cell_type": "code",
   "execution_count": null,
   "id": "b04b9051",
   "metadata": {},
   "outputs": [],
   "source": [
    "import keyboard\n",
    "from selenium.webdriver.common.by import By\n",
    "from selenium.webdriver.support import expected_conditions as EC\n",
    "from selenium import webdriver\n",
    "from selenium.webdriver.common.keys import Keys\n",
    "from selenium.webdriver.support.ui import WebDriverWait\n",
    "import pandas as pd\n",
    "import warnings \n",
    "import time\n",
    "import requests\n",
    "warnings.filterwarnings('ignore')"
   ]
  },
  {
   "cell_type": "code",
   "execution_count": null,
   "id": "c7f614e1",
   "metadata": {},
   "outputs": [],
   "source": [
    "driver = webdriver.Chrome()"
   ]
  },
  {
   "cell_type": "code",
   "execution_count": null,
   "id": "d768c054",
   "metadata": {},
   "outputs": [],
   "source": [
    "url= f'https://www.booking.com/searchresults.en-gb.html?'#page url\n",
    "driver.get(url)"
   ]
  },
  {
   "cell_type": "code",
   "execution_count": null,
   "id": "a1223fbe",
   "metadata": {},
   "outputs": [],
   "source": [
    "def GetData():\n",
    "    try:\n",
    "        name = driver.find_element(By.CLASS_NAME,'d2fee87262.pp-header__title').text #Hotel Name\n",
    "    except:\n",
    "        name = \"N/A\"\n",
    "    try:\n",
    "        room_type = driver.find_element(By.CLASS_NAME,'hprt-roomtype-icon-link').text\n",
    "    except:\n",
    "        room_type = \"N/A\"\n",
    "    try:\n",
    "        board_type = driver.find_element(By.XPATH,r'//*[@id=\"hprt-table\"]/tbody/tr[1]/td[4]/div/ul/li[1]/div/div').text\n",
    "    except:\n",
    "        try:\n",
    "            board_type = driver.find_element(By.XPATH,'//*[@id=\"hprt-table\"]/tbody/tr[1]/td[4]/div/div/ul[1]/li[1]/span[2]').text\n",
    "        except:\n",
    "            board_type = \"N/A\"\n",
    "    try:\n",
    "        price = driver.find_element(By.CLASS_NAME,'prco-valign-middle-helper').text\n",
    "    except:\n",
    "        price = \"N/A\"\n",
    "    try:\n",
    "        tax = driver.find_element(By.CLASS_NAME,'prd-taxes-and-fees-under-price').text\n",
    "    except:\n",
    "        tax = \"N/A\"\n",
    "    print(our_hotels_list[i],';',name,';',price,';',tax,';',room_type,';',board_type)"
   ]
  },
  {
   "cell_type": "code",
   "execution_count": null,
   "id": "50d52775",
   "metadata": {
    "scrolled": true
   },
   "outputs": [],
   "source": [
    "df=pd.read_excel(r'C:\\Users\\Amr Atef\\Desktop\\hotels.xlsx',sheet_name='Sheet1')\n",
    "our_hotels_list = df['name'].to_list()\n",
    "print(\"Scrape\", len(our_hotels_list), \"Hotels\")"
   ]
  },
  {
   "cell_type": "code",
   "execution_count": null,
   "id": "0016d78d",
   "metadata": {
    "scrolled": false
   },
   "outputs": [],
   "source": [
    "wait = WebDriverWait(driver, 20)\n",
    "i=0\n",
    "while i <= len(our_hotels_list)-1:\n",
    "    if keyboard.is_pressed('q'):\n",
    "        break\n",
    "    p = driver.current_window_handle\n",
    "    hotel_name_field = driver.find_element(By.NAME,'ss')\n",
    "    hotel_name_field.send_keys(Keys.CONTROL+'a')\n",
    "    hotel_name_field.send_keys(Keys.DELETE)\n",
    "    hotel_name_field.send_keys(our_hotels_list[i])\n",
    "    time.sleep(1)\n",
    "    driver.find_element(By.CLASS_NAME,'a83ed08757.c21c56c305.a4c1805887.f671049264.d2529514af.c082d89982.aa11d0d5cd').click() #Search Button\n",
    "    if driver.find_element(By.ID,'bodyconstraint-inner').text == '':\n",
    "        driver.find_element(By.CLASS_NAME,'a83ed08757.f3441ccb97.a9c42d2cff.ec66406250').click()\n",
    "        driver.find_element(By.CLASS_NAME,'ce45093752').send_keys(our_hotels_list[i])\n",
    "        time.sleep(1)\n",
    "        driver.find_element(By.CLASS_NAME,'fc63351294.a822bdf511.d4b6b7a9e7.cfb238afa1.c938084447.f4605622ad.aa11d0d5cd').click()\n",
    "    wait.until(EC.presence_of_element_located((By.CLASS_NAME, 'a4225678b2'))).click()#Click on hotel name\n",
    "    ch = driver.window_handles\n",
    "    for c in ch:\n",
    "        if c != p:\n",
    "            driver.switch_to.window(c)\n",
    "            GetData()\n",
    "    driver.close()\n",
    "    driver.switch_to.window(p)\n",
    "    try:\n",
    "        driver.find_element(By.CLASS_NAME,'a83ed08757.c21c56c305.f38b6daa18.d691166b09.ab98298258.deab83296e.f4552b6561').click()\n",
    "    except:\n",
    "        pass\n",
    "    i+=1"
   ]
  }
 ],
 "metadata": {
  "kernelspec": {
   "display_name": "Python 3",
   "language": "python",
   "name": "python3"
  },
  "language_info": {
   "codemirror_mode": {
    "name": "ipython",
    "version": 3
   },
   "file_extension": ".py",
   "mimetype": "text/x-python",
   "name": "python",
   "nbconvert_exporter": "python",
   "pygments_lexer": "ipython3",
   "version": "3.8.8"
  }
 },
 "nbformat": 4,
 "nbformat_minor": 5
}
